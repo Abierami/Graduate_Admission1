{
 "cells": [
  {
   "cell_type": "markdown",
   "id": "c710d799",
   "metadata": {},
   "source": [
    "**CONTEXT**\n",
    "\n",
    "**To apply for a master's degree is a very expensive and intensive work. With this kernel, students will guess their capacities and they will decide whetherto apply for a master's degree or not.So, basically this set is about the Graduate Admissions data i.e. Given a set of standardized scores like GRE, TOEFL, SOP standard scores, LOR standard scores. All those folks who are preparing for Master's, might point out this question, from where did you get SOP & LOR scores. This project aimed to assist prospective students in making informed decisions by providing them with insights into their potential for admission, it's worth considering that universities might utilize internal rating systems to standardize these scores and enhance their predictive accuracy.**"
   ]
  },
  {
   "cell_type": "code",
   "execution_count": 1,
   "id": "e47cabdd",
   "metadata": {},
   "outputs": [],
   "source": [
    "#Used for Data Processing and Analysis\n",
    "import pandas as pd\n",
    "#Used for Mathematical Computations\n",
    "import numpy as np\n",
    "#Used for data visualizations\n",
    "import matplotlib.pyplot as plt\n",
    "#used for data Statistical visualizations\n",
    "import seaborn as sns\n",
    "#For calculate accuracy score from data\n",
    "from sklearn.metrics import accuracy_score,confusion_matrix"
   ]
  },
  {
   "cell_type": "code",
   "execution_count": 2,
   "id": "4936ce35",
   "metadata": {},
   "outputs": [],
   "source": [
    "# Load the dataset using Pandas  \n",
    "graduate_ad=pd.read_csv(r\"C:\\Python310\\practice23\\machine learning1\\New folder\\Admission_Predict_Ver1.1.csv\")"
   ]
  },
  {
   "cell_type": "code",
   "execution_count": 3,
   "id": "dbf3a330",
   "metadata": {},
   "outputs": [
    {
     "data": {
      "text/html": [
       "<div>\n",
       "<style scoped>\n",
       "    .dataframe tbody tr th:only-of-type {\n",
       "        vertical-align: middle;\n",
       "    }\n",
       "\n",
       "    .dataframe tbody tr th {\n",
       "        vertical-align: top;\n",
       "    }\n",
       "\n",
       "    .dataframe thead th {\n",
       "        text-align: right;\n",
       "    }\n",
       "</style>\n",
       "<table border=\"1\" class=\"dataframe\">\n",
       "  <thead>\n",
       "    <tr style=\"text-align: right;\">\n",
       "      <th></th>\n",
       "      <th>Serial No.</th>\n",
       "      <th>GRE Score</th>\n",
       "      <th>TOEFL Score</th>\n",
       "      <th>University Rating</th>\n",
       "      <th>SOP</th>\n",
       "      <th>LOR</th>\n",
       "      <th>CGPA</th>\n",
       "      <th>Research</th>\n",
       "      <th>Chance of Admit</th>\n",
       "    </tr>\n",
       "  </thead>\n",
       "  <tbody>\n",
       "    <tr>\n",
       "      <th>0</th>\n",
       "      <td>1</td>\n",
       "      <td>337</td>\n",
       "      <td>118</td>\n",
       "      <td>4</td>\n",
       "      <td>4.5</td>\n",
       "      <td>4.5</td>\n",
       "      <td>9.65</td>\n",
       "      <td>1</td>\n",
       "      <td>0.92</td>\n",
       "    </tr>\n",
       "    <tr>\n",
       "      <th>1</th>\n",
       "      <td>2</td>\n",
       "      <td>324</td>\n",
       "      <td>107</td>\n",
       "      <td>4</td>\n",
       "      <td>4.0</td>\n",
       "      <td>4.5</td>\n",
       "      <td>8.87</td>\n",
       "      <td>1</td>\n",
       "      <td>0.76</td>\n",
       "    </tr>\n",
       "    <tr>\n",
       "      <th>2</th>\n",
       "      <td>3</td>\n",
       "      <td>316</td>\n",
       "      <td>104</td>\n",
       "      <td>3</td>\n",
       "      <td>3.0</td>\n",
       "      <td>3.5</td>\n",
       "      <td>8.00</td>\n",
       "      <td>1</td>\n",
       "      <td>0.72</td>\n",
       "    </tr>\n",
       "    <tr>\n",
       "      <th>3</th>\n",
       "      <td>4</td>\n",
       "      <td>322</td>\n",
       "      <td>110</td>\n",
       "      <td>3</td>\n",
       "      <td>3.5</td>\n",
       "      <td>2.5</td>\n",
       "      <td>8.67</td>\n",
       "      <td>1</td>\n",
       "      <td>0.80</td>\n",
       "    </tr>\n",
       "    <tr>\n",
       "      <th>4</th>\n",
       "      <td>5</td>\n",
       "      <td>314</td>\n",
       "      <td>103</td>\n",
       "      <td>2</td>\n",
       "      <td>2.0</td>\n",
       "      <td>3.0</td>\n",
       "      <td>8.21</td>\n",
       "      <td>0</td>\n",
       "      <td>0.65</td>\n",
       "    </tr>\n",
       "  </tbody>\n",
       "</table>\n",
       "</div>"
      ],
      "text/plain": [
       "   Serial No.  GRE Score  TOEFL Score  University Rating  SOP  LOR   CGPA  \\\n",
       "0           1        337          118                  4  4.5   4.5  9.65   \n",
       "1           2        324          107                  4  4.0   4.5  8.87   \n",
       "2           3        316          104                  3  3.0   3.5  8.00   \n",
       "3           4        322          110                  3  3.5   2.5  8.67   \n",
       "4           5        314          103                  2  2.0   3.0  8.21   \n",
       "\n",
       "   Research  Chance of Admit   \n",
       "0         1              0.92  \n",
       "1         1              0.76  \n",
       "2         1              0.72  \n",
       "3         1              0.80  \n",
       "4         0              0.65  "
      ]
     },
     "execution_count": 3,
     "metadata": {},
     "output_type": "execute_result"
    }
   ],
   "source": [
    "#Extract first rows from datasets\n",
    "graduate_ad.head()"
   ]
  },
  {
   "cell_type": "code",
   "execution_count": 4,
   "id": "d46c683c",
   "metadata": {},
   "outputs": [
    {
     "data": {
      "text/html": [
       "<div>\n",
       "<style scoped>\n",
       "    .dataframe tbody tr th:only-of-type {\n",
       "        vertical-align: middle;\n",
       "    }\n",
       "\n",
       "    .dataframe tbody tr th {\n",
       "        vertical-align: top;\n",
       "    }\n",
       "\n",
       "    .dataframe thead th {\n",
       "        text-align: right;\n",
       "    }\n",
       "</style>\n",
       "<table border=\"1\" class=\"dataframe\">\n",
       "  <thead>\n",
       "    <tr style=\"text-align: right;\">\n",
       "      <th></th>\n",
       "      <th>Serial No.</th>\n",
       "      <th>GRE Score</th>\n",
       "      <th>TOEFL Score</th>\n",
       "      <th>University Rating</th>\n",
       "      <th>SOP</th>\n",
       "      <th>LOR</th>\n",
       "      <th>CGPA</th>\n",
       "      <th>Research</th>\n",
       "      <th>Chance of Admit</th>\n",
       "    </tr>\n",
       "  </thead>\n",
       "  <tbody>\n",
       "    <tr>\n",
       "      <th>495</th>\n",
       "      <td>496</td>\n",
       "      <td>332</td>\n",
       "      <td>108</td>\n",
       "      <td>5</td>\n",
       "      <td>4.5</td>\n",
       "      <td>4.0</td>\n",
       "      <td>9.02</td>\n",
       "      <td>1</td>\n",
       "      <td>0.87</td>\n",
       "    </tr>\n",
       "    <tr>\n",
       "      <th>496</th>\n",
       "      <td>497</td>\n",
       "      <td>337</td>\n",
       "      <td>117</td>\n",
       "      <td>5</td>\n",
       "      <td>5.0</td>\n",
       "      <td>5.0</td>\n",
       "      <td>9.87</td>\n",
       "      <td>1</td>\n",
       "      <td>0.96</td>\n",
       "    </tr>\n",
       "    <tr>\n",
       "      <th>497</th>\n",
       "      <td>498</td>\n",
       "      <td>330</td>\n",
       "      <td>120</td>\n",
       "      <td>5</td>\n",
       "      <td>4.5</td>\n",
       "      <td>5.0</td>\n",
       "      <td>9.56</td>\n",
       "      <td>1</td>\n",
       "      <td>0.93</td>\n",
       "    </tr>\n",
       "    <tr>\n",
       "      <th>498</th>\n",
       "      <td>499</td>\n",
       "      <td>312</td>\n",
       "      <td>103</td>\n",
       "      <td>4</td>\n",
       "      <td>4.0</td>\n",
       "      <td>5.0</td>\n",
       "      <td>8.43</td>\n",
       "      <td>0</td>\n",
       "      <td>0.73</td>\n",
       "    </tr>\n",
       "    <tr>\n",
       "      <th>499</th>\n",
       "      <td>500</td>\n",
       "      <td>327</td>\n",
       "      <td>113</td>\n",
       "      <td>4</td>\n",
       "      <td>4.5</td>\n",
       "      <td>4.5</td>\n",
       "      <td>9.04</td>\n",
       "      <td>0</td>\n",
       "      <td>0.84</td>\n",
       "    </tr>\n",
       "  </tbody>\n",
       "</table>\n",
       "</div>"
      ],
      "text/plain": [
       "     Serial No.  GRE Score  TOEFL Score  University Rating  SOP  LOR   CGPA  \\\n",
       "495         496        332          108                  5  4.5   4.0  9.02   \n",
       "496         497        337          117                  5  5.0   5.0  9.87   \n",
       "497         498        330          120                  5  4.5   5.0  9.56   \n",
       "498         499        312          103                  4  4.0   5.0  8.43   \n",
       "499         500        327          113                  4  4.5   4.5  9.04   \n",
       "\n",
       "     Research  Chance of Admit   \n",
       "495         1              0.87  \n",
       "496         1              0.96  \n",
       "497         1              0.93  \n",
       "498         0              0.73  \n",
       "499         0              0.84  "
      ]
     },
     "execution_count": 4,
     "metadata": {},
     "output_type": "execute_result"
    }
   ],
   "source": [
    "#Extract last five rows from datasets\n",
    "graduate_ad.tail()"
   ]
  },
  {
   "cell_type": "code",
   "execution_count": 5,
   "id": "36c3e2d0",
   "metadata": {},
   "outputs": [
    {
     "data": {
      "text/plain": [
       "(500, 9)"
      ]
     },
     "execution_count": 5,
     "metadata": {},
     "output_type": "execute_result"
    }
   ],
   "source": [
    "#Total number of rows and columns\n",
    "graduate_ad.shape"
   ]
  },
  {
   "cell_type": "code",
   "execution_count": 6,
   "id": "5e076224",
   "metadata": {},
   "outputs": [
    {
     "name": "stdout",
     "output_type": "stream",
     "text": [
      "<class 'pandas.core.frame.DataFrame'>\n",
      "RangeIndex: 500 entries, 0 to 499\n",
      "Data columns (total 9 columns):\n",
      " #   Column             Non-Null Count  Dtype  \n",
      "---  ------             --------------  -----  \n",
      " 0   Serial No.         500 non-null    int64  \n",
      " 1   GRE Score          500 non-null    int64  \n",
      " 2   TOEFL Score        500 non-null    int64  \n",
      " 3   University Rating  500 non-null    int64  \n",
      " 4   SOP                500 non-null    float64\n",
      " 5   LOR                500 non-null    float64\n",
      " 6   CGPA               500 non-null    float64\n",
      " 7   Research           500 non-null    int64  \n",
      " 8   Chance of Admit    500 non-null    float64\n",
      "dtypes: float64(4), int64(5)\n",
      "memory usage: 35.3 KB\n"
     ]
    }
   ],
   "source": [
    "#Information about the dataset like total no.of. rows,total no.of columns,datatypes of each columns and memory management\n",
    "graduate_ad.info()"
   ]
  },
  {
   "cell_type": "code",
   "execution_count": 7,
   "id": "ed63f88a",
   "metadata": {},
   "outputs": [
    {
     "data": {
      "text/plain": [
       "Serial No.           0\n",
       "GRE Score            0\n",
       "TOEFL Score          0\n",
       "University Rating    0\n",
       "SOP                  0\n",
       "LOR                  0\n",
       "CGPA                 0\n",
       "Research             0\n",
       "Chance of Admit      0\n",
       "dtype: int64"
      ]
     },
     "execution_count": 7,
     "metadata": {},
     "output_type": "execute_result"
    }
   ],
   "source": [
    "#Checking for any empty/null values present in dataset\n",
    "graduate_ad.isnull().sum()"
   ]
  },
  {
   "cell_type": "code",
   "execution_count": 8,
   "id": "ca76a423",
   "metadata": {},
   "outputs": [
    {
     "data": {
      "text/html": [
       "<div>\n",
       "<style scoped>\n",
       "    .dataframe tbody tr th:only-of-type {\n",
       "        vertical-align: middle;\n",
       "    }\n",
       "\n",
       "    .dataframe tbody tr th {\n",
       "        vertical-align: top;\n",
       "    }\n",
       "\n",
       "    .dataframe thead th {\n",
       "        text-align: right;\n",
       "    }\n",
       "</style>\n",
       "<table border=\"1\" class=\"dataframe\">\n",
       "  <thead>\n",
       "    <tr style=\"text-align: right;\">\n",
       "      <th></th>\n",
       "      <th>Serial No.</th>\n",
       "      <th>GRE Score</th>\n",
       "      <th>TOEFL Score</th>\n",
       "      <th>University Rating</th>\n",
       "      <th>SOP</th>\n",
       "      <th>LOR</th>\n",
       "      <th>CGPA</th>\n",
       "      <th>Research</th>\n",
       "      <th>Chance of Admit</th>\n",
       "    </tr>\n",
       "  </thead>\n",
       "  <tbody>\n",
       "    <tr>\n",
       "      <th>count</th>\n",
       "      <td>500.000000</td>\n",
       "      <td>500.000000</td>\n",
       "      <td>500.000000</td>\n",
       "      <td>500.000000</td>\n",
       "      <td>500.000000</td>\n",
       "      <td>500.00000</td>\n",
       "      <td>500.000000</td>\n",
       "      <td>500.000000</td>\n",
       "      <td>500.00000</td>\n",
       "    </tr>\n",
       "    <tr>\n",
       "      <th>mean</th>\n",
       "      <td>250.500000</td>\n",
       "      <td>316.472000</td>\n",
       "      <td>107.192000</td>\n",
       "      <td>3.114000</td>\n",
       "      <td>3.374000</td>\n",
       "      <td>3.48400</td>\n",
       "      <td>8.576440</td>\n",
       "      <td>0.560000</td>\n",
       "      <td>0.72174</td>\n",
       "    </tr>\n",
       "    <tr>\n",
       "      <th>std</th>\n",
       "      <td>144.481833</td>\n",
       "      <td>11.295148</td>\n",
       "      <td>6.081868</td>\n",
       "      <td>1.143512</td>\n",
       "      <td>0.991004</td>\n",
       "      <td>0.92545</td>\n",
       "      <td>0.604813</td>\n",
       "      <td>0.496884</td>\n",
       "      <td>0.14114</td>\n",
       "    </tr>\n",
       "    <tr>\n",
       "      <th>min</th>\n",
       "      <td>1.000000</td>\n",
       "      <td>290.000000</td>\n",
       "      <td>92.000000</td>\n",
       "      <td>1.000000</td>\n",
       "      <td>1.000000</td>\n",
       "      <td>1.00000</td>\n",
       "      <td>6.800000</td>\n",
       "      <td>0.000000</td>\n",
       "      <td>0.34000</td>\n",
       "    </tr>\n",
       "    <tr>\n",
       "      <th>25%</th>\n",
       "      <td>125.750000</td>\n",
       "      <td>308.000000</td>\n",
       "      <td>103.000000</td>\n",
       "      <td>2.000000</td>\n",
       "      <td>2.500000</td>\n",
       "      <td>3.00000</td>\n",
       "      <td>8.127500</td>\n",
       "      <td>0.000000</td>\n",
       "      <td>0.63000</td>\n",
       "    </tr>\n",
       "    <tr>\n",
       "      <th>50%</th>\n",
       "      <td>250.500000</td>\n",
       "      <td>317.000000</td>\n",
       "      <td>107.000000</td>\n",
       "      <td>3.000000</td>\n",
       "      <td>3.500000</td>\n",
       "      <td>3.50000</td>\n",
       "      <td>8.560000</td>\n",
       "      <td>1.000000</td>\n",
       "      <td>0.72000</td>\n",
       "    </tr>\n",
       "    <tr>\n",
       "      <th>75%</th>\n",
       "      <td>375.250000</td>\n",
       "      <td>325.000000</td>\n",
       "      <td>112.000000</td>\n",
       "      <td>4.000000</td>\n",
       "      <td>4.000000</td>\n",
       "      <td>4.00000</td>\n",
       "      <td>9.040000</td>\n",
       "      <td>1.000000</td>\n",
       "      <td>0.82000</td>\n",
       "    </tr>\n",
       "    <tr>\n",
       "      <th>max</th>\n",
       "      <td>500.000000</td>\n",
       "      <td>340.000000</td>\n",
       "      <td>120.000000</td>\n",
       "      <td>5.000000</td>\n",
       "      <td>5.000000</td>\n",
       "      <td>5.00000</td>\n",
       "      <td>9.920000</td>\n",
       "      <td>1.000000</td>\n",
       "      <td>0.97000</td>\n",
       "    </tr>\n",
       "  </tbody>\n",
       "</table>\n",
       "</div>"
      ],
      "text/plain": [
       "       Serial No.   GRE Score  TOEFL Score  University Rating         SOP  \\\n",
       "count  500.000000  500.000000   500.000000         500.000000  500.000000   \n",
       "mean   250.500000  316.472000   107.192000           3.114000    3.374000   \n",
       "std    144.481833   11.295148     6.081868           1.143512    0.991004   \n",
       "min      1.000000  290.000000    92.000000           1.000000    1.000000   \n",
       "25%    125.750000  308.000000   103.000000           2.000000    2.500000   \n",
       "50%    250.500000  317.000000   107.000000           3.000000    3.500000   \n",
       "75%    375.250000  325.000000   112.000000           4.000000    4.000000   \n",
       "max    500.000000  340.000000   120.000000           5.000000    5.000000   \n",
       "\n",
       "            LOR         CGPA    Research  Chance of Admit   \n",
       "count  500.00000  500.000000  500.000000         500.00000  \n",
       "mean     3.48400    8.576440    0.560000           0.72174  \n",
       "std      0.92545    0.604813    0.496884           0.14114  \n",
       "min      1.00000    6.800000    0.000000           0.34000  \n",
       "25%      3.00000    8.127500    0.000000           0.63000  \n",
       "50%      3.50000    8.560000    1.000000           0.72000  \n",
       "75%      4.00000    9.040000    1.000000           0.82000  \n",
       "max      5.00000    9.920000    1.000000           0.97000  "
      ]
     },
     "execution_count": 8,
     "metadata": {},
     "output_type": "execute_result"
    }
   ],
   "source": [
    "#Statistical measures of a dataframe\n",
    "graduate_ad.describe()"
   ]
  },
  {
   "cell_type": "code",
   "execution_count": 9,
   "id": "19246f5c",
   "metadata": {},
   "outputs": [
    {
     "data": {
      "text/plain": [
       "Index(['Serial No.', 'GRE Score', 'TOEFL Score', 'University Rating', 'SOP',\n",
       "       'LOR ', 'CGPA', 'Research', 'Chance of Admit '],\n",
       "      dtype='object')"
      ]
     },
     "execution_count": 9,
     "metadata": {},
     "output_type": "execute_result"
    }
   ],
   "source": [
    "graduate_ad.columns"
   ]
  },
  {
   "cell_type": "markdown",
   "id": "970fd271",
   "metadata": {},
   "source": [
    "**PREPROCESSING THE DATASETS**"
   ]
  },
  {
   "cell_type": "code",
   "execution_count": 10,
   "id": "a3f7f829",
   "metadata": {},
   "outputs": [],
   "source": [
    "X=graduate_ad.drop(['Serial No.','Chance of Admit '],axis=1)"
   ]
  },
  {
   "cell_type": "code",
   "execution_count": 11,
   "id": "1956388c",
   "metadata": {},
   "outputs": [
    {
     "name": "stdout",
     "output_type": "stream",
     "text": [
      "     GRE Score  TOEFL Score  University Rating  SOP  LOR   CGPA  Research\n",
      "0          337          118                  4  4.5   4.5  9.65         1\n",
      "1          324          107                  4  4.0   4.5  8.87         1\n",
      "2          316          104                  3  3.0   3.5  8.00         1\n",
      "3          322          110                  3  3.5   2.5  8.67         1\n",
      "4          314          103                  2  2.0   3.0  8.21         0\n",
      "..         ...          ...                ...  ...   ...   ...       ...\n",
      "495        332          108                  5  4.5   4.0  9.02         1\n",
      "496        337          117                  5  5.0   5.0  9.87         1\n",
      "497        330          120                  5  4.5   5.0  9.56         1\n",
      "498        312          103                  4  4.0   5.0  8.43         0\n",
      "499        327          113                  4  4.5   4.5  9.04         0\n",
      "\n",
      "[500 rows x 7 columns]\n"
     ]
    }
   ],
   "source": [
    "print(X)"
   ]
  },
  {
   "cell_type": "code",
   "execution_count": 12,
   "id": "a37a18f7",
   "metadata": {},
   "outputs": [
    {
     "data": {
      "text/plain": [
       "0      0.92\n",
       "1      0.76\n",
       "2      0.72\n",
       "3      0.80\n",
       "4      0.65\n",
       "       ... \n",
       "495    0.87\n",
       "496    0.96\n",
       "497    0.93\n",
       "498    0.73\n",
       "499    0.84\n",
       "Name: Chance of Admit , Length: 500, dtype: float64"
      ]
     },
     "execution_count": 12,
     "metadata": {},
     "output_type": "execute_result"
    }
   ],
   "source": [
    "y=graduate_ad['Chance of Admit ']\n",
    "y"
   ]
  },
  {
   "cell_type": "markdown",
   "id": "6dedb825",
   "metadata": {},
   "source": [
    "**SPLITTING DATASET INTO TRAINING AND TEST DATA**"
   ]
  },
  {
   "cell_type": "code",
   "execution_count": 13,
   "id": "1e826d86",
   "metadata": {},
   "outputs": [],
   "source": [
    "from sklearn.model_selection import train_test_split"
   ]
  },
  {
   "cell_type": "code",
   "execution_count": 14,
   "id": "db5c573e",
   "metadata": {},
   "outputs": [],
   "source": [
    "X_train,X_test,y_train,y_test=train_test_split(X,y,test_size=0.20,random_state=42)"
   ]
  },
  {
   "cell_type": "code",
   "execution_count": 15,
   "id": "66742554",
   "metadata": {},
   "outputs": [
    {
     "data": {
      "text/plain": [
       "(     GRE Score  TOEFL Score  University Rating  SOP  LOR   CGPA  Research\n",
       " 249        321          111                  3  3.5   4.0  8.83         1\n",
       " 433        316          111                  4  4.0   5.0  8.54         0\n",
       " 19         303          102                  3  3.5   3.0  8.50         0\n",
       " 322        314          107                  2  2.5   4.0  8.27         0\n",
       " 332        308          106                  3  3.5   2.5  8.21         1\n",
       " ..         ...          ...                ...  ...   ...   ...       ...\n",
       " 106        329          111                  4  4.5   4.5  9.18         1\n",
       " 270        306          105                  2  2.5   3.0  8.22         1\n",
       " 348        302           99                  1  2.0   2.0  7.25         0\n",
       " 435        309          105                  2  2.5   4.0  7.68         0\n",
       " 102        314          106                  2  4.0   3.5  8.25         0\n",
       " \n",
       " [400 rows x 7 columns],\n",
       "      GRE Score  TOEFL Score  University Rating  SOP  LOR   CGPA  Research\n",
       " 361        334          116                  4  4.0   3.5  9.54         1\n",
       " 73         314          108                  4  4.5   4.0  9.04         1\n",
       " 374        315          105                  2  2.0   2.5  7.65         0\n",
       " 155        312          109                  3  3.0   3.0  8.69         0\n",
       " 104        326          112                  3  3.5   3.0  9.05         1\n",
       " ..         ...          ...                ...  ...   ...   ...       ...\n",
       " 347        299           94                  1  1.0   1.0  7.34         0\n",
       " 86         315          106                  3  4.5   3.5  8.42         0\n",
       " 75         329          114                  2  2.0   4.0  8.56         1\n",
       " 438        318          110                  1  2.5   3.5  8.54         1\n",
       " 15         314          105                  3  3.5   2.5  8.30         0\n",
       " \n",
       " [100 rows x 7 columns],\n",
       " 249    0.77\n",
       " 433    0.71\n",
       " 19     0.62\n",
       " 322    0.72\n",
       " 332    0.75\n",
       "        ... \n",
       " 106    0.87\n",
       " 270    0.72\n",
       " 348    0.57\n",
       " 435    0.55\n",
       " 102    0.62\n",
       " Name: Chance of Admit , Length: 400, dtype: float64,\n",
       " 361    0.93\n",
       " 73     0.84\n",
       " 374    0.39\n",
       " 155    0.77\n",
       " 104    0.74\n",
       "        ... \n",
       " 347    0.42\n",
       " 86     0.72\n",
       " 75     0.72\n",
       " 438    0.67\n",
       " 15     0.54\n",
       " Name: Chance of Admit , Length: 100, dtype: float64)"
      ]
     },
     "execution_count": 15,
     "metadata": {},
     "output_type": "execute_result"
    }
   ],
   "source": [
    "X_train,X_test,y_train,y_test"
   ]
  },
  {
   "cell_type": "code",
   "execution_count": 16,
   "id": "7eb4c0dd",
   "metadata": {},
   "outputs": [
    {
     "name": "stdout",
     "output_type": "stream",
     "text": [
      "(400, 7) (100, 7) (500, 7)\n"
     ]
    }
   ],
   "source": [
    "print(X_train.shape,X_test.shape,X.shape)"
   ]
  },
  {
   "cell_type": "code",
   "execution_count": 17,
   "id": "6ad91ad7",
   "metadata": {},
   "outputs": [],
   "source": [
    "y_train=[1 if value>0.8 else 0 for value in y_train]\n",
    "y_test=[1 if value>0.8 else 0 for value in y_test]\n",
    "y_train=np.array(y_train)\n",
    "y_test=np.array(y_test)"
   ]
  },
  {
   "cell_type": "code",
   "execution_count": 18,
   "id": "a9f0bae7",
   "metadata": {},
   "outputs": [
    {
     "name": "stdout",
     "output_type": "stream",
     "text": [
      "[0 0 0 0 0 0 0 1 0 0 0 1 1 1 0 0 0 1 0 0 0 1 0 0 0 0 0 1 1 0 0 0 1 0 1 0 1\n",
      " 1 0 0 0 0 0 0 1 0 1 0 0 0 1 0 1 0 0 0 0 1 0 0 0 0 0 0 0 0 0 0 0 1 0 0 0 0\n",
      " 0 1 0 0 0 0 0 0 0 0 0 1 1 0 0 0 0 0 0 0 0 0 1 0 1 0 0 1 1 0 0 0 0 0 0 0 0\n",
      " 0 0 0 0 0 1 0 0 1 1 0 0 0 0 0 0 0 1 0 0 0 0 0 1 0 1 0 1 1 0 0 0 0 0 0 1 0\n",
      " 0 0 1 0 0 0 1 0 0 1 1 1 1 0 0 0 1 0 1 1 0 0 0 1 0 0 1 0 0 1 1 0 0 0 0 0 1\n",
      " 0 0 1 0 0 0 0 1 0 0 0 0 1 0 0 0 0 1 1 0 0 0 0 0 1 0 0 0 1 0 1 0 1 0 1 0 1\n",
      " 1 0 0 0 0 0 1 0 0 0 1 0 0 1 0 0 0 0 0 0 0 0 0 0 0 0 0 1 1 0 0 0 0 0 0 1 1\n",
      " 1 1 0 1 0 1 1 0 0 0 1 0 1 0 1 1 0 1 0 0 1 1 0 0 0 0 0 0 0 0 0 0 1 1 1 0 0\n",
      " 0 1 1 0 1 0 0 0 0 0 0 0 0 0 0 1 1 0 1 0 1 0 0 0 0 0 1 0 0 0 0 1 0 0 0 0 1\n",
      " 0 0 0 0 0 0 0 0 0 0 0 0 0 1 0 0 0 0 0 0 0 0 1 1 1 1 1 0 0 1 0 1 0 0 0 1 0\n",
      " 1 1 1 1 0 0 0 0 0 0 1 1 1 0 1 0 0 0 1 0 1 1 0 1 1 1 0 0 0 0]\n"
     ]
    }
   ],
   "source": [
    "print(y_train)"
   ]
  },
  {
   "cell_type": "code",
   "execution_count": 19,
   "id": "8f045b1b",
   "metadata": {},
   "outputs": [
    {
     "name": "stdout",
     "output_type": "stream",
     "text": [
      "[1 1 0 0 0 1 0 0 0 1 0 0 0 1 1 0 1 0 0 0 0 0 0 0 0 0 1 1 0 0 0 0 0 1 0 0 0\n",
      " 1 0 0 1 0 0 1 1 0 1 1 0 1 1 0 0 0 1 0 1 0 0 0 0 0 0 0 0 0 1 1 0 0 0 0 0 0\n",
      " 0 0 1 0 0 0 0 1 0 1 0 0 0 0 0 0 0 1 1 0 0 0 0 0 0 0]\n"
     ]
    }
   ],
   "source": [
    "print(y_test)"
   ]
  },
  {
   "cell_type": "markdown",
   "id": "2677e410",
   "metadata": {},
   "source": [
    "**STANDARDSCALER**:\n",
    "\n",
    "\n",
    "**The StandardScaler is a preprocessing technique commonly used in machine learning to transform numerical features in a dataset. \n",
    "It is used to standardize the scale of the features,  making them have a mean of 0 and a standard deviation of 1.**"
   ]
  },
  {
   "cell_type": "code",
   "execution_count": 20,
   "id": "25d362dc",
   "metadata": {},
   "outputs": [],
   "source": [
    " from sklearn.preprocessing import StandardScaler"
   ]
  },
  {
   "cell_type": "code",
   "execution_count": 21,
   "id": "11b54195",
   "metadata": {},
   "outputs": [],
   "source": [
    "SC=StandardScaler()"
   ]
  },
  {
   "cell_type": "code",
   "execution_count": 22,
   "id": "5b5ae698",
   "metadata": {},
   "outputs": [],
   "source": [
    "X_train=SC.fit_transform(X_train)\n",
    "X_test=SC.fit_transform(X_test)"
   ]
  },
  {
   "cell_type": "code",
   "execution_count": 23,
   "id": "90d8a631",
   "metadata": {
    "scrolled": true
   },
   "outputs": [
    {
     "name": "stdout",
     "output_type": "stream",
     "text": [
      "[[ 0.38998634  0.6024183  -0.09829757 ...  0.56498381  0.4150183\n",
      "   0.89543386]\n",
      " [-0.06640493  0.6024183   0.7754586  ...  1.65149114 -0.06785154\n",
      "  -1.11677706]\n",
      " [-1.25302222 -0.87691722 -0.09829757 ... -0.52152352 -0.13445427\n",
      "  -1.11677706]\n",
      " ...\n",
      " [-1.34430047 -1.37002906 -1.8458099  ... -1.60803084 -2.2157898\n",
      "  -1.11677706]\n",
      " [-0.7053527  -0.38380538 -0.97205374 ...  0.56498381 -1.49981038\n",
      "  -1.11677706]\n",
      " [-0.24896144 -0.21943477 -0.97205374 ...  0.02173015 -0.55072138\n",
      "  -1.11677706]]\n"
     ]
    }
   ],
   "source": [
    "print(X_train)"
   ]
  },
  {
   "cell_type": "code",
   "execution_count": 24,
   "id": "bf7c7282",
   "metadata": {},
   "outputs": [
    {
     "data": {
      "text/plain": [
       "array([[ 1.48887961e+00,  1.56082934e+00,  7.76121546e-01,\n",
       "         6.25913605e-01,  0.00000000e+00,  1.58648736e+00,\n",
       "         8.50962943e-01],\n",
       "       [-1.16381425e-01,  2.29631609e-01,  7.76121546e-01,\n",
       "         1.12267043e+00,  5.31494003e-01,  7.77715255e-01,\n",
       "         8.50962943e-01],\n",
       "       [-3.61183733e-02, -2.69567541e-01, -9.87791059e-01,\n",
       "        -1.36111371e+00, -1.06298801e+00, -1.47067119e+00,\n",
       "        -1.17513930e+00],\n",
       "       [-2.76907529e-01,  3.96031326e-01, -1.05834756e-01,\n",
       "        -3.67600054e-01, -5.31494003e-01,  2.11574782e-01,\n",
       "        -1.17513930e+00],\n",
       "       [ 8.46775196e-01,  8.95230476e-01, -1.05834756e-01,\n",
       "         1.29156776e-01, -5.31494003e-01,  7.93890697e-01,\n",
       "         8.50962943e-01],\n",
       "       [ 1.08756435e+00,  7.28830760e-01,  7.76121546e-01,\n",
       "         1.12267043e+00,  5.31494003e-01,  1.08504865e+00,\n",
       "         8.50962943e-01],\n",
       "       [-2.04269467e+00, -1.10156613e+00, -1.86974736e+00,\n",
       "        -1.85787054e+00, -1.59448201e+00, -1.61625017e+00,\n",
       "        -1.17513930e+00],\n",
       "       [-1.15980110e+00, -1.03167824e-01,  7.76121546e-01,\n",
       "        -8.64356883e-01, -5.31494003e-01, -1.44284943e-01,\n",
       "        -1.17513930e+00],\n",
       "       [ 2.04670782e-01,  3.96031326e-01, -1.05834756e-01,\n",
       "         1.29156776e-01,  5.31494003e-01,  1.06887321e+00,\n",
       "         8.50962943e-01],\n",
       "       [ 3.65196886e-01,  8.95230476e-01,  7.76121546e-01,\n",
       "        -3.67600054e-01,  1.06298801e+00,  4.86557297e-01,\n",
       "         8.50962943e-01],\n",
       "       [ 6.05986041e-01,  2.29631609e-01, -1.05834756e-01,\n",
       "         1.29156776e-01, -5.31494003e-01,  6.59958036e-02,\n",
       "        -1.17513930e+00],\n",
       "       [ 4.41446785e-02,  3.96031326e-01, -1.05834756e-01,\n",
       "         1.29156776e-01, -5.31494003e-01,  3.24802877e-01,\n",
       "        -1.17513930e+00],\n",
       "       [ 5.25722989e-01, -6.02366975e-01,  7.76121546e-01,\n",
       "        -3.67600054e-01, -1.06298801e+00, -8.72179836e-01,\n",
       "         8.50962943e-01],\n",
       "       [ 1.97045792e+00,  1.39442963e+00,  1.65807785e+00,\n",
       "         1.12267043e+00,  1.06298801e+00,  1.44090838e+00,\n",
       "         8.50962943e-01],\n",
       "       [ 6.86249093e-01,  5.62431043e-01, -1.05834756e-01,\n",
       "         1.29156776e-01, -5.31494003e-01,  1.06887321e+00,\n",
       "         8.50962943e-01],\n",
       "       [-1.56111636e+00, -1.60076528e+00, -9.87791059e-01,\n",
       "        -1.85787054e+00, -1.59448201e+00, -1.22803956e+00,\n",
       "        -1.17513930e+00],\n",
       "       [ 1.32835351e+00,  2.29631609e-01,  1.65807785e+00,\n",
       "         1.12267043e+00,  5.31494003e-01,  7.45364370e-01,\n",
       "         8.50962943e-01],\n",
       "       [-1.24006415e+00, -1.60076528e+00, -9.87791059e-01,\n",
       "        -3.67600054e-01, -5.31494003e-01, -7.42776300e-01,\n",
       "         8.50962943e-01],\n",
       "       [-1.40059025e+00, -9.35166408e-01, -9.87791059e-01,\n",
       "        -1.85787054e+00, -1.59448201e+00, -1.13098691e+00,\n",
       "        -1.17513930e+00],\n",
       "       [-1.48085331e+00, -9.35166408e-01, -1.05834756e-01,\n",
       "        -1.36111371e+00,  5.31494003e-01, -1.43832031e+00,\n",
       "         8.50962943e-01],\n",
       "       [-6.78222787e-01, -2.69567541e-01, -9.87791059e-01,\n",
       "        -8.64356883e-01,  1.06298801e+00, -7.10425416e-01,\n",
       "         8.50962943e-01],\n",
       "       [-1.48085331e+00, -1.26796584e+00,  7.76121546e-01,\n",
       "        -3.67600054e-01,  0.00000000e+00, -1.21186412e+00,\n",
       "        -1.17513930e+00],\n",
       "       [-3.57170580e-01, -7.68766692e-01, -1.05834756e-01,\n",
       "         1.12267043e+00,  5.31494003e-01,  1.30697572e-01,\n",
       "         8.50962943e-01],\n",
       "       [ 9.27038248e-01,  3.96031326e-01, -1.05834756e-01,\n",
       "         1.29156776e-01,  5.31494003e-01,  3.40978319e-01,\n",
       "         8.50962943e-01],\n",
       "       [ 9.27038248e-01,  8.95230476e-01, -1.05834756e-01,\n",
       "        -3.67600054e-01, -5.31494003e-01,  2.60101108e-01,\n",
       "         8.50962943e-01],\n",
       "       [-1.15980110e+00, -7.68766692e-01, -1.05834756e-01,\n",
       "        -8.64356883e-01, -1.59448201e+00, -6.94249974e-01,\n",
       "         8.50962943e-01],\n",
       "       [ 1.16782740e+00,  2.22642821e+00,  1.65807785e+00,\n",
       "         1.12267043e+00,  1.59448201e+00,  1.61883824e+00,\n",
       "         8.50962943e-01],\n",
       "       [ 1.00730130e+00,  5.62431043e-01,  7.76121546e-01,\n",
       "         1.61942726e+00,  5.31494003e-01,  9.39469675e-01,\n",
       "         8.50962943e-01],\n",
       "       [-2.76907529e-01, -2.69567541e-01, -9.87791059e-01,\n",
       "        -8.64356883e-01, -5.31494003e-01, -7.10425416e-01,\n",
       "        -1.17513930e+00],\n",
       "       [-2.76907529e-01,  6.32318924e-02,  7.76121546e-01,\n",
       "         1.12267043e+00,  5.31494003e-01,  1.46873014e-01,\n",
       "         8.50962943e-01],\n",
       "       [-1.24006415e+00, -9.35166408e-01, -1.05834756e-01,\n",
       "         1.29156776e-01, -1.06298801e+00, -1.09863603e+00,\n",
       "        -1.17513930e+00],\n",
       "       [ 2.84933834e-01,  5.62431043e-01, -1.05834756e-01,\n",
       "        -3.67600054e-01, -1.06298801e+00,  3.73329203e-01,\n",
       "        -1.17513930e+00],\n",
       "       [-8.38748891e-01, -4.35967258e-01, -9.87791059e-01,\n",
       "        -8.64356883e-01, -2.12597601e+00, -1.24421500e+00,\n",
       "        -1.17513930e+00],\n",
       "       [ 6.05986041e-01,  1.06163019e+00,  7.76121546e-01,\n",
       "         6.25913605e-01,  1.06298801e+00,  1.08504865e+00,\n",
       "         8.50962943e-01],\n",
       "       [ 4.41446785e-02, -4.35967258e-01, -1.05834756e-01,\n",
       "        -3.67600054e-01,  0.00000000e+00, -9.04530720e-01,\n",
       "         8.50962943e-01],\n",
       "       [ 2.84933834e-01,  2.29631609e-01, -1.05834756e-01,\n",
       "        -3.67600054e-01,  0.00000000e+00, -3.10568488e-02,\n",
       "         8.50962943e-01],\n",
       "       [-1.24006415e+00, -1.43436556e+00, -1.86974736e+00,\n",
       "        -1.36111371e+00, -1.06298801e+00, -8.72179836e-01,\n",
       "        -1.17513930e+00],\n",
       "       [ 1.32835351e+00,  1.89362878e+00,  1.65807785e+00,\n",
       "         1.61942726e+00,  1.59448201e+00,  1.74824178e+00,\n",
       "         8.50962943e-01],\n",
       "       [-1.15980110e+00, -4.35967258e-01, -1.05834756e-01,\n",
       "         1.29156776e-01,  5.31494003e-01, -7.10425416e-01,\n",
       "         8.50962943e-01],\n",
       "       [-3.61183733e-02,  6.32318924e-02, -9.87791059e-01,\n",
       "         6.25913605e-01, -5.31494003e-01, -9.57586170e-02,\n",
       "         8.50962943e-01],\n",
       "       [ 1.97045792e+00,  1.06163019e+00,  7.76121546e-01,\n",
       "         1.61942726e+00,  1.59448201e+00,  1.90999620e+00,\n",
       "         8.50962943e-01],\n",
       "       [-1.15980110e+00, -1.60076528e+00, -9.87791059e-01,\n",
       "        -3.67600054e-01, -5.31494003e-01, -1.09863603e+00,\n",
       "         8.50962943e-01],\n",
       "       [-3.57170580e-01, -9.35166408e-01, -9.87791059e-01,\n",
       "        -8.64356883e-01,  0.00000000e+00, -3.54565690e-01,\n",
       "         8.50962943e-01],\n",
       "       [ 9.27038248e-01,  1.06163019e+00,  7.76121546e-01,\n",
       "         1.12267043e+00,  1.06298801e+00,  8.90943349e-01,\n",
       "         8.50962943e-01],\n",
       "       [ 1.97045792e+00,  1.22802991e+00,  1.65807785e+00,\n",
       "         6.25913605e-01,  5.31494003e-01,  1.68354001e+00,\n",
       "         8.50962943e-01],\n",
       "       [-1.15980110e+00, -1.26796584e+00, -9.87791059e-01,\n",
       "        -3.67600054e-01, -1.59448201e+00, -5.48670995e-01,\n",
       "        -1.17513930e+00],\n",
       "       [ 1.72966877e+00,  1.89362878e+00,  7.76121546e-01,\n",
       "         1.12267043e+00,  1.06298801e+00,  1.76441722e+00,\n",
       "         8.50962943e-01],\n",
       "       [ 9.27038248e-01,  7.28830760e-01,  7.76121546e-01,\n",
       "         6.25913605e-01,  1.06298801e+00,  7.13013486e-01,\n",
       "         8.50962943e-01],\n",
       "       [ 9.27038248e-01, -1.03167824e-01,  7.76121546e-01,\n",
       "         6.25913605e-01,  1.06298801e+00,  3.08627435e-01,\n",
       "         8.50962943e-01],\n",
       "       [ 1.00730130e+00,  1.56082934e+00,  1.65807785e+00,\n",
       "         1.61942726e+00,  1.59448201e+00,  1.52178559e+00,\n",
       "         8.50962943e-01],\n",
       "       [ 4.45459937e-01,  7.28830760e-01,  1.65807785e+00,\n",
       "         1.61942726e+00,  1.59448201e+00,  1.44090838e+00,\n",
       "         8.50962943e-01],\n",
       "       [-1.32032720e+00, -1.10156613e+00, -9.87791059e-01,\n",
       "        -3.67600054e-01,  0.00000000e+00, -1.09863603e+00,\n",
       "        -1.17513930e+00],\n",
       "       [-9.99274994e-01, -2.69567541e-01,  1.65807785e+00,\n",
       "         1.61942726e+00,  1.06298801e+00,  1.46873014e-01,\n",
       "        -1.17513930e+00],\n",
       "       [-1.15980110e+00, -1.76716499e+00, -1.86974736e+00,\n",
       "        -3.67600054e-01,  5.31494003e-01, -1.61625017e+00,\n",
       "        -1.17513930e+00],\n",
       "       [ 1.64940571e+00,  1.89362878e+00,  1.65807785e+00,\n",
       "         1.12267043e+00,  1.59448201e+00,  1.57031192e+00,\n",
       "         8.50962943e-01],\n",
       "       [ 3.65196886e-01, -6.02366975e-01, -1.05834756e-01,\n",
       "        -3.67600054e-01, -5.31494003e-01, -1.38979398e+00,\n",
       "        -1.17513930e+00],\n",
       "       [ 1.89019487e+00,  1.56082934e+00,  7.76121546e-01,\n",
       "         6.25913605e-01,  0.00000000e+00,  2.00704885e+00,\n",
       "         8.50962943e-01],\n",
       "       [ 2.04670782e-01,  5.62431043e-01, -1.05834756e-01,\n",
       "         6.25913605e-01, -5.31494003e-01,  3.89504645e-01,\n",
       "        -1.17513930e+00],\n",
       "       [-1.40059025e+00, -2.69567541e-01, -1.05834756e-01,\n",
       "         1.29156776e-01,  5.31494003e-01, -3.10568488e-02,\n",
       "        -1.17513930e+00],\n",
       "       [-1.56111636e+00, -1.93356471e+00, -9.87791059e-01,\n",
       "        -3.67600054e-01, -1.59448201e+00, -1.64860106e+00,\n",
       "         8.50962943e-01],\n",
       "       [-1.15980110e+00, -1.26796584e+00, -1.05834756e-01,\n",
       "        -8.64356883e-01, -1.59448201e+00, -1.76635827e-01,\n",
       "         8.50962943e-01],\n",
       "       [-5.97959736e-01, -6.02366975e-01, -9.87791059e-01,\n",
       "        -8.64356883e-01,  5.31494003e-01, -3.22214806e-01,\n",
       "         8.50962943e-01],\n",
       "       [-8.38748891e-01, -7.68766692e-01, -9.87791059e-01,\n",
       "        -1.36111371e+00, -1.06298801e+00, -6.13372763e-01,\n",
       "        -1.17513930e+00],\n",
       "       [-9.19011943e-01, -6.02366975e-01,  1.65807785e+00,\n",
       "         1.61942726e+00, -5.31494003e-01, -1.03393426e+00,\n",
       "        -1.17513930e+00],\n",
       "       [-1.72164246e+00, -2.26636414e+00, -1.86974736e+00,\n",
       "        -1.85787054e+00, -1.59448201e+00, -1.93975901e+00,\n",
       "        -1.17513930e+00],\n",
       "       [-6.78222787e-01,  2.29631609e-01, -9.87791059e-01,\n",
       "         6.25913605e-01,  0.00000000e+00, -1.38979398e+00,\n",
       "        -1.17513930e+00],\n",
       "       [ 6.86249093e-01,  1.06163019e+00,  7.76121546e-01,\n",
       "         1.12267043e+00,  1.06298801e+00,  1.11739954e+00,\n",
       "         8.50962943e-01],\n",
       "       [ 1.08756435e+00,  1.22802991e+00,  1.65807785e+00,\n",
       "         6.25913605e-01,  1.59448201e+00,  1.19827675e+00,\n",
       "         8.50962943e-01],\n",
       "       [-4.37433632e-01, -4.35967258e-01, -1.05834756e-01,\n",
       "        -1.36111371e+00,  0.00000000e+00, -3.06039364e-01,\n",
       "        -1.17513930e+00],\n",
       "       [ 2.04670782e-01, -1.03167824e-01, -1.05834756e-01,\n",
       "        -1.36111371e+00, -5.31494003e-01,  1.46873014e-01,\n",
       "        -1.17513930e+00],\n",
       "       [-9.99274994e-01, -1.10156613e+00, -9.87791059e-01,\n",
       "        -3.67600054e-01,  0.00000000e+00, -8.07478068e-01,\n",
       "         8.50962943e-01],\n",
       "       [ 8.46775196e-01,  5.62431043e-01, -1.05834756e-01,\n",
       "         1.29156776e-01,  0.00000000e+00,  3.24802877e-01,\n",
       "         8.50962943e-01],\n",
       "       [ 3.65196886e-01, -9.35166408e-01, -9.87791059e-01,\n",
       "        -8.64356883e-01, -5.31494003e-01,  9.83466878e-02,\n",
       "        -1.17513930e+00],\n",
       "       [-6.78222787e-01, -2.69567541e-01, -9.87791059e-01,\n",
       "        -8.64356883e-01, -5.31494003e-01, -1.47067119e+00,\n",
       "        -1.17513930e+00],\n",
       "       [-1.24006415e+00, -1.26796584e+00, -1.86974736e+00,\n",
       "        -2.35462737e+00, -1.06298801e+00, -8.88355278e-01,\n",
       "        -1.17513930e+00],\n",
       "       [-1.96644477e-01, -1.03167824e-01, -9.87791059e-01,\n",
       "        -8.64356883e-01, -1.59448201e+00, -2.08986712e-01,\n",
       "        -1.17513930e+00],\n",
       "       [ 9.27038248e-01,  1.06163019e+00,  7.76121546e-01,\n",
       "         1.12267043e+00,  1.59448201e+00,  9.39469675e-01,\n",
       "        -1.17513930e+00],\n",
       "       [ 1.00730130e+00,  1.39442963e+00,  7.76121546e-01,\n",
       "         1.12267043e+00,  5.31494003e-01,  9.71820559e-01,\n",
       "         8.50962943e-01],\n",
       "       [-8.38748891e-01, -7.68766692e-01, -9.87791059e-01,\n",
       "        -1.85787054e+00, -1.06298801e+00, -1.48684663e+00,\n",
       "        -1.17513930e+00],\n",
       "       [-8.38748891e-01, -1.76716499e+00,  7.76121546e-01,\n",
       "        -3.67600054e-01,  1.06298801e+00, -4.83969227e-01,\n",
       "        -1.17513930e+00],\n",
       "       [ 8.46775196e-01,  2.29631609e-01, -1.05834756e-01,\n",
       "        -3.67600054e-01,  0.00000000e+00,  5.35083624e-01,\n",
       "        -1.17513930e+00],\n",
       "       [ 3.65196886e-01,  5.62431043e-01,  1.65807785e+00,\n",
       "         1.61942726e+00,  1.06298801e+00,  1.06887321e+00,\n",
       "         8.50962943e-01],\n",
       "       [-5.17696684e-01, -2.69567541e-01,  7.76121546e-01,\n",
       "         1.29156776e-01, -1.59448201e+00, -6.13372763e-01,\n",
       "        -1.17513930e+00],\n",
       "       [ 5.25722989e-01,  5.62431043e-01,  7.76121546e-01,\n",
       "         6.25913605e-01,  1.59448201e+00,  9.23294233e-01,\n",
       "         8.50962943e-01],\n",
       "       [ 6.05986041e-01, -4.35967258e-01, -1.05834756e-01,\n",
       "         6.25913605e-01,  5.31494003e-01, -1.92811269e-01,\n",
       "         8.50962943e-01],\n",
       "       [ 2.04670782e-01, -1.03167824e-01, -9.87791059e-01,\n",
       "         6.25913605e-01,  5.31494003e-01, -1.03393426e+00,\n",
       "         8.50962943e-01],\n",
       "       [-1.24006415e+00, -4.35967258e-01, -1.05834756e-01,\n",
       "         1.29156776e-01, -5.31494003e-01, -6.45723647e-01,\n",
       "        -1.17513930e+00],\n",
       "       [ 4.45459937e-01,  5.62431043e-01,  7.76121546e-01,\n",
       "         1.29156776e-01,  5.31494003e-01, -3.38390248e-01,\n",
       "         8.50962943e-01],\n",
       "       [-3.57170580e-01,  6.32318924e-02,  7.76121546e-01,\n",
       "         1.12267043e+00,  1.06298801e+00,  7.13013486e-01,\n",
       "         8.50962943e-01],\n",
       "       [-5.97959736e-01, -6.02366975e-01, -9.87791059e-01,\n",
       "        -3.67600054e-01,  0.00000000e+00, -1.11934059e-01,\n",
       "        -1.17513930e+00],\n",
       "       [ 2.84933834e-01, -2.69567541e-01, -1.05834756e-01,\n",
       "        -3.67600054e-01,  0.00000000e+00,  1.79223898e-01,\n",
       "         8.50962943e-01],\n",
       "       [ 9.27038248e-01,  1.56082934e+00,  7.76121546e-01,\n",
       "         6.25913605e-01,  1.06298801e+00,  1.48943471e+00,\n",
       "         8.50962943e-01],\n",
       "       [ 1.80993182e+00,  1.39442963e+00,  1.65807785e+00,\n",
       "         1.12267043e+00,  1.59448201e+00,  1.08504865e+00,\n",
       "         8.50962943e-01],\n",
       "       [-3.61183733e-02, -4.35967258e-01, -1.05834756e-01,\n",
       "        -3.67600054e-01, -1.06298801e+00, -3.70741132e-01,\n",
       "        -1.17513930e+00],\n",
       "       [ 3.65196886e-01,  8.95230476e-01, -9.87791059e-01,\n",
       "         1.29156776e-01,  0.00000000e+00,  3.57153761e-01,\n",
       "         8.50962943e-01],\n",
       "       [-1.32032720e+00, -2.09996443e+00, -1.86974736e+00,\n",
       "        -2.35462737e+00, -2.65747002e+00, -1.97210990e+00,\n",
       "        -1.17513930e+00],\n",
       "       [-3.61183733e-02, -1.03167824e-01, -1.05834756e-01,\n",
       "         1.12267043e+00,  0.00000000e+00, -2.25162154e-01,\n",
       "        -1.17513930e+00],\n",
       "       [ 1.08756435e+00,  1.22802991e+00, -9.87791059e-01,\n",
       "        -1.36111371e+00,  5.31494003e-01,  1.29403537e-03,\n",
       "         8.50962943e-01],\n",
       "       [ 2.04670782e-01,  5.62431043e-01, -1.86974736e+00,\n",
       "        -8.64356883e-01,  0.00000000e+00, -3.10568488e-02,\n",
       "         8.50962943e-01],\n",
       "       [-1.16381425e-01, -2.69567541e-01, -1.05834756e-01,\n",
       "         1.29156776e-01, -1.06298801e+00, -4.19267458e-01,\n",
       "        -1.17513930e+00]])"
      ]
     },
     "execution_count": 24,
     "metadata": {},
     "output_type": "execute_result"
    }
   ],
   "source": [
    "X_test"
   ]
  },
  {
   "cell_type": "code",
   "execution_count": 25,
   "id": "42681a32",
   "metadata": {},
   "outputs": [],
   "source": [
    "#Importing LogisticRegression model\n",
    "from sklearn.linear_model import LogisticRegression"
   ]
  },
  {
   "cell_type": "markdown",
   "id": "ce602ba6",
   "metadata": {},
   "source": [
    "**MODEL TRAINING AND EVALUATION**"
   ]
  },
  {
   "cell_type": "code",
   "execution_count": 26,
   "id": "598683af",
   "metadata": {},
   "outputs": [
    {
     "name": "stdout",
     "output_type": "stream",
     "text": [
      "0.96\n"
     ]
    }
   ],
   "source": [
    "logr=LogisticRegression()\n",
    "logr.fit(X_train,y_train)\n",
    "y_pred1=logr.predict(X_test)\n",
    "print(accuracy_score(y_pred1,y_test))"
   ]
  },
  {
   "cell_type": "code",
   "execution_count": 27,
   "id": "8cfe53c8",
   "metadata": {},
   "outputs": [],
   "source": [
    "matrix=confusion_matrix(y_pred1,y_test)"
   ]
  },
  {
   "cell_type": "code",
   "execution_count": 28,
   "id": "56d09ee1",
   "metadata": {},
   "outputs": [
    {
     "data": {
      "image/png": "[encoded data removed]",
      "text/plain": [
       "<Figure size 640x480 with 2 Axes>"
      ]
     },
     "metadata": {},
     "output_type": "display_data"
    }
   ],
   "source": [
    "sns.heatmap(matrix/np.sum(matrix),\n",
    "            fmt='g',\n",
    "            annot= True)\n",
    "plt.ylabel('Prediction', fontsize = 12)\n",
    "plt.xlabel('Actual', fontsize = 12)\n",
    "plt.title('confusion matrix',fontsize=16)\n",
    "plt.show()"
   ]
  },
  {
   "cell_type": "code",
   "execution_count": 29,
   "id": "ce69905a",
   "metadata": {},
   "outputs": [],
   "source": [
    "#Importing SupportVectorClassifier model\n",
    "from sklearn import svm "
   ]
  },
  {
   "cell_type": "markdown",
   "id": "43ee3a96",
   "metadata": {},
   "source": [
    "**MODEL TRAINING AND EVALUATION**"
   ]
  },
  {
   "cell_type": "code",
   "execution_count": 30,
   "id": "5e26ce85",
   "metadata": {},
   "outputs": [
    {
     "name": "stdout",
     "output_type": "stream",
     "text": [
      "0.97\n"
     ]
    }
   ],
   "source": [
    "svm=svm.SVC()\n",
    "svm.fit(X_train,y_train)\n",
    "y_pred2=svm.predict(X_test)\n",
    "print(accuracy_score(y_pred2,y_test))"
   ]
  },
  {
   "cell_type": "code",
   "execution_count": 31,
   "id": "c3dcdf71",
   "metadata": {},
   "outputs": [],
   "source": [
    "matrix=confusion_matrix(y_pred2,y_test)"
   ]
  },
  {
   "cell_type": "code",
   "execution_count": 32,
   "id": "345a4e26",
   "metadata": {},
   "outputs": [
    {
     "data": {
      "image/png": "[encoded data removed]",
      "text/plain": [
       "<Figure size 640x480 with 2 Axes>"
      ]
     },
     "metadata": {},
     "output_type": "display_data"
    }
   ],
   "source": [
    "sns.heatmap(matrix/np.sum(matrix),\n",
    "            fmt='g',\n",
    "            annot= True)\n",
    "plt.ylabel('Prediction', fontsize = 12)\n",
    "plt.xlabel('Actual', fontsize = 12)\n",
    "plt.title('confusion matrix',fontsize=16)\n",
    "plt.show()"
   ]
  },
  {
   "cell_type": "code",
   "execution_count": 33,
   "id": "8abf4d39",
   "metadata": {},
   "outputs": [],
   "source": [
    "##Importing KNN model\n",
    "from sklearn.neighbors import KNeighborsClassifier"
   ]
  },
  {
   "cell_type": "markdown",
   "id": "fcc523cc",
   "metadata": {},
   "source": [
    "**MODEL TRAINING AND EVALUATION**"
   ]
  },
  {
   "cell_type": "code",
   "execution_count": 34,
   "id": "c0e967a2",
   "metadata": {},
   "outputs": [
    {
     "name": "stdout",
     "output_type": "stream",
     "text": [
      "0.97\n"
     ]
    },
    {
     "name": "stderr",
     "output_type": "stream",
     "text": [
      "C:\\Users\\Varshini\\anaconda3\\lib\\site-packages\\sklearn\\neighbors\\_classification.py:228: FutureWarning: Unlike other reduction functions (e.g. `skew`, `kurtosis`), the default behavior of `mode` typically preserves the axis it acts along. In SciPy 1.11.0, this behavior will change: the default value of `keepdims` will become False, the `axis` over which the statistic is taken will be eliminated, and the value None will no longer be accepted. Set `keepdims` to True or False to avoid this warning.\n",
      "  mode, _ = stats.mode(_y[neigh_ind, k], axis=1)\n"
     ]
    }
   ],
   "source": [
    "knn=KNeighborsClassifier()\n",
    "knn.fit(X_train,y_train)\n",
    "y_pred3=knn.predict(X_test)\n",
    "print(accuracy_score(y_pred3,y_test))"
   ]
  },
  {
   "cell_type": "code",
   "execution_count": 35,
   "id": "f49fee95",
   "metadata": {},
   "outputs": [],
   "source": [
    "matrix=confusion_matrix(y_pred3,y_test)"
   ]
  },
  {
   "cell_type": "code",
   "execution_count": 36,
   "id": "257cd274",
   "metadata": {},
   "outputs": [
    {
     "data": {
      "image/png": "[encoded data removed]",
      "text/plain": [
       "<Figure size 640x480 with 2 Axes>"
      ]
     },
     "metadata": {},
     "output_type": "display_data"
    }
   ],
   "source": [
    "sns.heatmap(matrix/np.sum(matrix),\n",
    "            fmt='g',\n",
    "            annot= True)\n",
    "plt.ylabel('Prediction', fontsize = 12)\n",
    "plt.xlabel('Actual', fontsize = 12)\n",
    "plt.title('confusion matrix',fontsize=16)\n",
    "plt.show()"
   ]
  },
  {
   "cell_type": "code",
   "execution_count": 37,
   "id": "a083a6a8",
   "metadata": {},
   "outputs": [],
   "source": [
    "#Importing RandomForestClassifier \n",
    "from sklearn.ensemble import RandomForestClassifier"
   ]
  },
  {
   "cell_type": "markdown",
   "id": "6821b669",
   "metadata": {},
   "source": [
    "**MODEL TRAINING AND EVALUATION**"
   ]
  },
  {
   "cell_type": "code",
   "execution_count": 38,
   "id": "62d4b9c2",
   "metadata": {},
   "outputs": [
    {
     "name": "stdout",
     "output_type": "stream",
     "text": [
      "0.94\n"
     ]
    }
   ],
   "source": [
    "RDF=RandomForestClassifier()\n",
    "RDF.fit(X_train,y_train)\n",
    "y_pred4=RDF.predict(X_test)\n",
    "print(accuracy_score(y_pred4,y_test))"
   ]
  },
  {
   "cell_type": "code",
   "execution_count": 39,
   "id": "92dde90a",
   "metadata": {},
   "outputs": [],
   "source": [
    "matrix=confusion_matrix(y_pred4,y_test)"
   ]
  },
  {
   "cell_type": "code",
   "execution_count": 40,
   "id": "3c6420f2",
   "metadata": {},
   "outputs": [
    {
     "data": {
      "image/png": "[encoded data removed]",
      "text/plain": [
       "<Figure size 640x480 with 2 Axes>"
      ]
     },
     "metadata": {},
     "output_type": "display_data"
    }
   ],
   "source": [
    "sns.heatmap(matrix/np.sum(matrix),\n",
    "            fmt='g',\n",
    "            annot= True)\n",
    "plt.ylabel('Prediction', fontsize = 12)\n",
    "plt.xlabel('Actual', fontsize = 12)\n",
    "plt.title('confusion matrix',fontsize=16)\n",
    "plt.show()"
   ]
  },
  {
   "cell_type": "code",
   "execution_count": 41,
   "id": "753a5735",
   "metadata": {},
   "outputs": [],
   "source": [
    "final_output=pd.DataFrame({'Model':['LR','SVC','KNN','RDF'],'ACCURACY_SCORE':[accuracy_score(y_pred1,y_test),\n",
    "                                                                                   accuracy_score(y_pred2,y_test),\n",
    "                                                                                   accuracy_score(y_pred3,y_test),\n",
    "                                                                                   accuracy_score(y_pred4,y_test)]})"
   ]
  },
  {
   "cell_type": "code",
   "execution_count": 42,
   "id": "454b0f8a",
   "metadata": {},
   "outputs": [
    {
     "data": {
      "text/html": [
       "<div>\n",
       "<style scoped>\n",
       "    .dataframe tbody tr th:only-of-type {\n",
       "        vertical-align: middle;\n",
       "    }\n",
       "\n",
       "    .dataframe tbody tr th {\n",
       "        vertical-align: top;\n",
       "    }\n",
       "\n",
       "    .dataframe thead th {\n",
       "        text-align: right;\n",
       "    }\n",
       "</style>\n",
       "<table border=\"1\" class=\"dataframe\">\n",
       "  <thead>\n",
       "    <tr style=\"text-align: right;\">\n",
       "      <th></th>\n",
       "      <th>Model</th>\n",
       "      <th>ACCURACY_SCORE</th>\n",
       "    </tr>\n",
       "  </thead>\n",
       "  <tbody>\n",
       "    <tr>\n",
       "      <th>0</th>\n",
       "      <td>LR</td>\n",
       "      <td>0.96</td>\n",
       "    </tr>\n",
       "    <tr>\n",
       "      <th>1</th>\n",
       "      <td>SVC</td>\n",
       "      <td>0.97</td>\n",
       "    </tr>\n",
       "    <tr>\n",
       "      <th>2</th>\n",
       "      <td>KNN</td>\n",
       "      <td>0.97</td>\n",
       "    </tr>\n",
       "    <tr>\n",
       "      <th>3</th>\n",
       "      <td>RDF</td>\n",
       "      <td>0.94</td>\n",
       "    </tr>\n",
       "  </tbody>\n",
       "</table>\n",
       "</div>"
      ],
      "text/plain": [
       "  Model  ACCURACY_SCORE\n",
       "0    LR            0.96\n",
       "1   SVC            0.97\n",
       "2   KNN            0.97\n",
       "3   RDF            0.94"
      ]
     },
     "execution_count": 42,
     "metadata": {},
     "output_type": "execute_result"
    }
   ],
   "source": [
    "final_output"
   ]
  },
  {
   "cell_type": "markdown",
   "id": "f2585dc2",
   "metadata": {},
   "source": [
    "**ACCURACY BARPLOT**\n",
    "\n",
    "\n",
    "**Accuracy is a common metric used in machine learning and statistics to measure the performance of a classification model. It provides a straightforward way to understand how well the model is predicting the correct classes compared to the total number of instances**"
   ]
  },
  {
   "cell_type": "code",
   "execution_count": 43,
   "id": "fc2c6108",
   "metadata": {
    "scrolled": true
   },
   "outputs": [
    {
     "name": "stderr",
     "output_type": "stream",
     "text": [
      "C:\\Users\\Varshini\\anaconda3\\lib\\site-packages\\seaborn\\_decorators.py:36: FutureWarning: Pass the following variables as keyword args: x, y. From version 0.12, the only valid positional argument will be `data`, and passing other arguments without an explicit keyword will result in an error or misinterpretation.\n",
      "  warnings.warn(\n"
     ]
    },
    {
     "data": {
      "text/plain": [
       "<AxesSubplot:xlabel='Model', ylabel='ACCURACY_SCORE'>"
      ]
     },
     "execution_count": 43,
     "metadata": {},
     "output_type": "execute_result"
    },
    {
     "data": {
      "image/png": "[encoded data removed]",
      "text/plain": [
       "<Figure size 640x480 with 1 Axes>"
      ]
     },
     "metadata": {},
     "output_type": "display_data"
    }
   ],
   "source": [
    "sns.barplot(final_output['Model'],final_output['ACCURACY_SCORE'])"
   ]
  },
  {
   "cell_type": "markdown",
   "id": "3364bc60",
   "metadata": {},
   "source": [
    "Hence, SVM and KNearestNeighbours has more accuracy than other models, while comparing to the confusion matrix it has less **FN** values according to the classification model."
   ]
  }
 ],
 "metadata": {
  "kernelspec": {
   "display_name": "Python 3 (ipykernel)",
   "language": "python",
   "name": "python3"
  },
  "language_info": {
   "codemirror_mode": {
    "name": "ipython",
    "version": 3
   },
   "file_extension": ".py",
   "mimetype": "text/x-python",
   "name": "python",
   "nbconvert_exporter": "python",
   "pygments_lexer": "ipython3",
   "version": "3.9.13"
  }
 },
 "nbformat": 4,
 "nbformat_minor": 5
}
